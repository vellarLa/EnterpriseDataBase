{
  "nbformat": 4,
  "nbformat_minor": 0,
  "metadata": {
    "colab": {
      "provenance": []
    },
    "kernelspec": {
      "name": "python3",
      "display_name": "Python 3"
    },
    "language_info": {
      "name": "python"
    }
  },
  "cells": [
    {
      "cell_type": "code",
      "execution_count": null,
      "metadata": {
        "colab": {
          "base_uri": "https://localhost:8080/"
        },
        "id": "pctCiS1ODp80",
        "outputId": "8b78cbed-dcc8-4039-89bd-06b0373d8b5c"
      },
      "outputs": [
        {
          "output_type": "stream",
          "name": "stdout",
          "text": [
            "Collecting mimesis\n",
            "  Downloading mimesis-17.0.0-py3-none-any.whl (4.5 MB)\n",
            "\u001b[2K     \u001b[90m━━━━━━━━━━━━━━━━━━━━━━━━━━━━━━━━━━━━━━━━\u001b[0m \u001b[32m4.5/4.5 MB\u001b[0m \u001b[31m15.0 MB/s\u001b[0m eta \u001b[36m0:00:00\u001b[0m\n",
            "\u001b[?25hInstalling collected packages: mimesis\n",
            "Successfully installed mimesis-17.0.0\n"
          ]
        }
      ],
      "source": [
        "pip install mimesis"
      ]
    },
    {
      "cell_type": "code",
      "source": [
        "pip install Faker"
      ],
      "metadata": {
        "colab": {
          "base_uri": "https://localhost:8080/"
        },
        "id": "NGzQVWmqDuNH",
        "outputId": "44c0e8ac-8fb5-4dbf-946e-e3d29d9a6b0b"
      },
      "execution_count": null,
      "outputs": [
        {
          "output_type": "stream",
          "name": "stdout",
          "text": [
            "Collecting Faker\n",
            "  Downloading Faker-25.8.0-py3-none-any.whl (1.8 MB)\n",
            "\u001b[2K     \u001b[90m━━━━━━━━━━━━━━━━━━━━━━━━━━━━━━━━━━━━━━━━\u001b[0m \u001b[32m1.8/1.8 MB\u001b[0m \u001b[31m10.7 MB/s\u001b[0m eta \u001b[36m0:00:00\u001b[0m\n",
            "\u001b[?25hRequirement already satisfied: python-dateutil>=2.4 in /usr/local/lib/python3.10/dist-packages (from Faker) (2.8.2)\n",
            "Requirement already satisfied: six>=1.5 in /usr/local/lib/python3.10/dist-packages (from python-dateutil>=2.4->Faker) (1.16.0)\n",
            "Installing collected packages: Faker\n",
            "Successfully installed Faker-25.8.0\n"
          ]
        }
      ]
    },
    {
      "cell_type": "code",
      "source": [
        "from mimesis import Generic\n",
        "import uuid\n",
        "import random\n",
        "import csv\n",
        "\n",
        "# Создаем объект Generic для генерации данных\n",
        "data = Generic('ru')\n",
        "\n",
        "# Генерируем данные для каждой строки\n",
        "road_police_file = open(\"road_police.csv\", \"w+\", newline='')\n",
        "\n",
        "police = []\n",
        "with road_police_file:\n",
        "    writer = csv.writer(road_police_file)\n",
        "    first = []\n",
        "    first.append(\"id\")\n",
        "    first.append(\"name\")\n",
        "    first.append(\"personnel_number\")\n",
        "    first.append(\"phone\")\n",
        "    writer.writerow(first)\n",
        "    for _ in range(100000):\n",
        "        row = []\n",
        "        id = str(uuid.uuid4())\n",
        "        row.append(id)\n",
        "        row.append(data.person.full_name())\n",
        "        row.append(data.code.issn(mask = \"########-####/##\"))\n",
        "        row.append(data.person.phone_number())\n",
        "        writer.writerow(row)\n",
        "        police.append(id)\n",
        "road_police_file.close()"
      ],
      "metadata": {
        "id": "17aU16t4D4kg"
      },
      "execution_count": null,
      "outputs": []
    },
    {
      "cell_type": "code",
      "source": [
        "import faker\n",
        "from datetime import datetime\n",
        "# Создание объекта Faker для конкретной локализации\n",
        "fake = faker.Faker(\"ru_RU\")\n",
        "driver_file = open(\"driver.csv\", \"w+\", newline='')\n",
        "\n",
        "drivers = []\n",
        "with driver_file:\n",
        "    writer = csv.writer(driver_file)\n",
        "    first = []\n",
        "    first.append(\"id\")\n",
        "    first.append(\"name\")\n",
        "    first.append(\"birthday\")\n",
        "    first.append(\"email\")\n",
        "    first.append(\"phone\")\n",
        "    first.append(\"gender\")\n",
        "    first.append(\"experience\")\n",
        "    writer.writerow(first)\n",
        "    for _ in range(100000):\n",
        "        row = []\n",
        "        id = str(uuid.uuid4())\n",
        "        row.append(id)\n",
        "        gender = data.person.gender()\n",
        "        if (gender == 'Муж.'):\n",
        "          row.append(fake.first_name_male() + ' ' + fake.last_name_male())\n",
        "        else:\n",
        "          row.append(fake.first_name_female() + ' ' + fake.last_name_female())\n",
        "        birthday = data.person.birthdate(min_year=1960, max_year=2005)\n",
        "        row.append(str(birthday))\n",
        "        row.append(data.person.email())\n",
        "        row.append(data.person.phone_number())\n",
        "        row.append(gender)\n",
        "        now_date = datetime.now()\n",
        "        max_exp = now_date.year - birthday.year - 18\n",
        "        row.append(random.randint(0, max_exp))\n",
        "        writer.writerow(row)\n",
        "        drivers.append(id)\n",
        "driver_file.close()"
      ],
      "metadata": {
        "id": "zOCnISyTD7-h"
      },
      "execution_count": null,
      "outputs": []
    },
    {
      "cell_type": "code",
      "source": [
        "import faker\n",
        "from datetime import datetime\n",
        "# Создание объекта Faker для конкретной локализации\n",
        "fake = faker.Faker(\"ru_RU\")\n",
        "license_file = open(\"license.csv\", \"w+\", newline='')\n",
        "\n",
        "category_enum = ['B', 'A', 'D', 'C']\n",
        "\n",
        "licenses = []\n",
        "with license_file:\n",
        "    writer = csv.writer(license_file)\n",
        "    first = []\n",
        "    first.append(\"id\")\n",
        "    first.append(\"number\")\n",
        "    first.append(\"category\")\n",
        "    first.append(\"driver\")\n",
        "    writer.writerow(first)\n",
        "    for dr in range(len(drivers)):\n",
        "        count = random.randint(1, 4);\n",
        "        for i in range(count):\n",
        "            row = []\n",
        "            id = str(uuid.uuid4())\n",
        "            row.append(id)\n",
        "            row.append(data.code.issn(mask = \"#####-####/##-####\"))\n",
        "            row.append(category_enum[i])\n",
        "            row.append(drivers[dr])\n",
        "            writer.writerow(row)\n",
        "            licenses.append(id)\n",
        "license_file.close()"
      ],
      "metadata": {
        "id": "6rhFFQjOHWlT"
      },
      "execution_count": null,
      "outputs": []
    },
    {
      "cell_type": "code",
      "source": [
        "transport_file = open(\"transport.csv\", \"w+\", newline='')\n",
        "\n",
        "transport = []\n",
        "with transport_file:\n",
        "    writer = csv.writer(transport_file)\n",
        "    first = []\n",
        "    first.append(\"id\")\n",
        "    first.append(\"owner\")\n",
        "    first.append(\"brand\")\n",
        "    first.append(\"number\")\n",
        "    writer.writerow(first)\n",
        "    for dr in range(len(drivers)):\n",
        "        count = random.randint(1, 3);\n",
        "        for i in range(count):\n",
        "            row = []\n",
        "            id = str(uuid.uuid4())\n",
        "            row.append(id)\n",
        "            row.append(drivers[dr])\n",
        "            row.append(data.transport.car())\n",
        "            row.append(fake.license_plate())\n",
        "            writer.writerow(row)\n",
        "            transport.append(id)\n",
        "transport_file.close()"
      ],
      "metadata": {
        "id": "JxnGakr_QgzR"
      },
      "execution_count": null,
      "outputs": []
    },
    {
      "cell_type": "code",
      "source": [
        "fine_file = open(\"fine.csv\", \"w+\", newline='')\n",
        "\n",
        "fines = []\n",
        "with fine_file:\n",
        "    writer = csv.writer(fine_file)\n",
        "    first = []\n",
        "    first.append(\"id\")\n",
        "    first.append(\"transport\")\n",
        "    first.append(\"sum\")\n",
        "    first.append(\"date\")\n",
        "    writer.writerow(first)\n",
        "    for dr in range(len(transport)):\n",
        "        count = random.randint(1, 5);\n",
        "        for i in range(count):\n",
        "            row = []\n",
        "            id = str(uuid.uuid4())\n",
        "            row.append(id)\n",
        "            row.append(transport[dr])\n",
        "            row.append(random.randint(100, 30000))\n",
        "            row.append(str(fake.date_between_dates(date_start=datetime.strptime(\"2024-01-01\", \"%Y-%m-%d\"), date_end=datetime.now())))\n",
        "            writer.writerow(row)\n",
        "            fines.append(id)\n",
        "fine_file.close()"
      ],
      "metadata": {
        "id": "JEFUmYRZMMkc"
      },
      "execution_count": null,
      "outputs": []
    },
    {
      "cell_type": "code",
      "source": [
        "score_file = open(\"score.csv\", \"w+\", newline='')\n",
        "scores = []\n",
        "with score_file:\n",
        "    writer = csv.writer(score_file)\n",
        "    first = []\n",
        "    first.append(\"id\")\n",
        "    first.append(\"fine\")\n",
        "    first.append(\"requisites\")\n",
        "    writer.writerow(first)\n",
        "    for dr in range(len(fines)):\n",
        "        row = []\n",
        "        id = str(uuid.uuid4())\n",
        "        row.append(id)\n",
        "        row.append(fines[dr])\n",
        "        row.append(fake.credit_card_number())\n",
        "        scores.append(id)\n",
        "        writer.writerow(row)\n",
        "score_file.close()"
      ],
      "metadata": {
        "id": "pgpzI3UBN0MN"
      },
      "execution_count": null,
      "outputs": []
    },
    {
      "cell_type": "code",
      "source": [
        "fine_police_file = open(\"fine_police.csv\", \"w+\", newline='')\n",
        "\n",
        "with fine_police_file:\n",
        "    writer = csv.writer(fine_police_file)\n",
        "    first = []\n",
        "    first.append(\"fine\")\n",
        "    first.append(\"police\")\n",
        "    writer.writerow(first)\n",
        "    for dr in range(len(fines)):\n",
        "       count = random.randint(1, 2);\n",
        "       for i in range(count):\n",
        "          row = []\n",
        "          row.append(fines[dr])\n",
        "          row.append(police[random.randint(0, len(police)-1)])\n",
        "          writer.writerow(row)\n",
        "fine_police_file.close()"
      ],
      "metadata": {
        "id": "7NqVpVRfPPJZ"
      },
      "execution_count": null,
      "outputs": []
    }
  ]
}